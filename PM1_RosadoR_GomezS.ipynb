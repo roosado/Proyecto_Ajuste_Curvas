{
 "cells": [
  {
   "cell_type": "markdown",
   "metadata": {},
   "source": [
    "# ¿Me conviene estudiar Nanotecnología?"
   ]
  },
  {
   "cell_type": "markdown",
   "metadata": {},
   "source": [
    "## 1. Objetivos\n",
    "\n",
    "### 1.1 Objetivo general\n",
    "\n",
    "> Analizar el comportamiento de los datos de búsqueda de la palabra \"Nanotechnology\" en Google académico a través de los años. \n",
    "\n",
    "### 1.2 Objetivos específicos\n",
    "\n",
    "> * Obtener la base de datos sobre la repetición de la palabra \"Nanotechnology\" en Google académico. \n",
    "> * Realizar el ajuste de curvas de los datos. \n",
    "> * Comparar la suma de los errores al cuadrado de cada polinomio para verificar cuál es el mejor ajuste.\n",
    "> * Interpretar la tendencia de crecimiento o decrecimiento de los datos. \n",
    "> * Realizar predicciones sobre el comportamiento de los datos en años futuros. \n",
    "> * Conluir si es conveniente tomar en cuenta el área de Nanotecnología como opción de estudio. \n"
   ]
  },
  {
   "cell_type": "markdown",
   "metadata": {},
   "source": [
    "## 2.  Modelo que representa el problema\n",
    "\n",
    "**Planteamiento del problema:** Fer está por elegir qué carrera estudiar y le interesa Nanotecnología. Sus familiares y amigos le dicen que es un área en crecimiento pero ella quiere analizarlo personalmente. Para ello, decide hacer una análisis de cuántas veces aparece el término \"Nanotechnology\" en google scholar a lo largo de los años. \n",
    "\n",
    "Se comienza por tener una base de datos haciendo uso de un código existente. Para predecir el comportamiento en años futuros, se realizará un ajuste de curvas que modele de la mejor manera posible los datos. Se utilizará el año como variable independiente  𝑥  y la cantidad de repetición de la palabra \"Nanotechnology\" como variable dependiente  𝑦. Se ajustarán polinomios de grado 1 hasta grado 4.\n",
    "\n",
    "La **función a optimizar** es la suma de los errores al cuadrado. Esto se logra gracias al método de mínimos cuadrados, que consiste en encontrar los coeficientes *beta* que minimicen la función. \n",
    "\n",
    "$$\\min\\quad \\sum\\nolimits (error)^2$$"
   ]
  },
  {
   "cell_type": "markdown",
   "metadata": {},
   "source": [
    "## 3. Solución del problema de optimización"
   ]
  },
  {
   "cell_type": "code",
   "execution_count": null,
   "metadata": {},
   "outputs": [],
   "source": [
    "#Librerias\n",
    "import pandas as pd\n",
    "import numpy as np\n",
    "import sympy as sym\n",
    "import scipy.optimize as opt\n",
    "import matplotlib.pyplot as plt\n",
    "import matplotlib.image as mpimg"
   ]
  },
  {
   "cell_type": "code",
   "execution_count": null,
   "metadata": {},
   "outputs": [],
   "source": [
    "#Importar el data frame\n",
    "df=pd.read_csv('outgraph.csv',header=0)\n",
    "x=df.iloc[:,0]\n",
    "y=df.iloc[:,1]"
   ]
  },
  {
   "cell_type": "code",
   "execution_count": null,
   "metadata": {},
   "outputs": [],
   "source": [
    "#Funcion a Optimizar\n",
    "def obj(beta,x,y,n):\n",
    "    yhat = beta.dot([x**i for i in range(n+1)])\n",
    "    error = y-yhat\n",
    "    return np.sum(error**2)"
   ]
  },
  {
   "cell_type": "markdown",
   "metadata": {},
   "source": [
    "<h4>Funcion grafico_datos_grado</h4>\n",
    "<center>La función \"grafico_datos_grado\" toma 3 argumentos. Los primeros dos 'x,y' son los datos del data frame, el siguiente argumento 'guardar' es un booleano que determina si se desea guardar la grafica como un png. Muestra un grafico con los datos y una curva formada por un polinomio de grado pedido como input. </center>\n",
    "\n",
    "<h4>Funcion curva_grado</h4>\n",
    "<center> La funcion \"curva_grado\" crea el argumento beta adaptado al grado para la funcion obj(), minimiza la suma de los errores al cuadrado y los guarda y regresa en yhat_grado</center>"
   ]
  },
  {
   "cell_type": "code",
   "execution_count": null,
   "metadata": {},
   "outputs": [],
   "source": [
    "def grafico_datos_grado(x,y,guardar):\n",
    "    grado=int(input())\n",
    "    x_norm = (x-min(x))/(max(x)-min(x))\n",
    "    y_norm = (y-min(y))/(max(y)-min(y))\n",
    "    def curva_grado(grado,x,y,x_norm,y_norm):\n",
    "        beta_grado=np.zeros(grado+1)\n",
    "        g_grado=opt.minimize(obj,beta_grado,args=(x_norm,y_norm,grado))\n",
    "        yhat_grado=g_grado.x.dot([x_norm**i for i in range(grado+1)])*(max(y)-min(y)) + min(y)\n",
    "        return yhat_grado\n",
    "    \n",
    "    yhat_grado_x=curva_grado(grado,x,y,x_norm,y_norm)\n",
    "    \n",
    "    plt.figure(figsize=(8,6))\n",
    "    \n",
    "    plt.plot(x, yhat_grado_x, 'm', lw=2, label=('Grado',grado))\n",
    "    plt.plot(x, y, 'r', lw=3, label='Datos')\n",
    "    plt.xlabel('Año',fontsize=16)\n",
    "    plt.ylabel('Numero de Repeticiones',fontsize=16)\n",
    "\n",
    "    plt.grid()\n",
    "    plt.legend(loc='best')\n",
    "    fig1 = plt.gcf()\n",
    "    if guardar==True:\n",
    "        nombre=str(grado)\n",
    "        fig1.savefig('GrafGrado_'+nombre+'.png', dpi=100)\n",
    "    \n",
    "    return fig1, yhat_grado_x"
   ]
  },
  {
   "cell_type": "markdown",
   "metadata": {},
   "source": [
    "## 4. Visualización de la solución del problema"
   ]
  },
  {
   "cell_type": "code",
   "execution_count": null,
   "metadata": {},
   "outputs": [],
   "source": [
    "#Cambia \"False\" a \"True\" si deseas guardar la imagen. Se guarda como GrafGrado_i.png donde i es el grado introducido.\n",
    "grafico_datos_grado(x,y,False)"
   ]
  },
  {
   "cell_type": "markdown",
   "metadata": {},
   "source": [
    "## Grado 40\n",
    "![I40](GrafGrado_40.png \"Imagen Grado 40\")\n",
    "## Grado 80\n",
    "![I40](GrafGrado_80.png \"Imagen Grado 80\")"
   ]
  },
  {
   "cell_type": "markdown",
   "metadata": {},
   "source": [
    "## 5. Conclusiones"
   ]
  },
  {
   "cell_type": "markdown",
   "metadata": {},
   "source": [
    "## 6. Referencias\n",
    "\n",
    "Volker Strobel. (2018, April 14). Pold87/academic-keyword-occurrence: First release (Version v1.0.0). Zenodo. http://doi.org/10.5281/zenodo.1218409"
   ]
  }
 ],
 "metadata": {
  "kernelspec": {
   "display_name": "Python 3",
   "language": "python",
   "name": "python3"
  },
  "language_info": {
   "codemirror_mode": {
    "name": "ipython",
    "version": 3
   },
   "file_extension": ".py",
   "mimetype": "text/x-python",
   "name": "python",
   "nbconvert_exporter": "python",
   "pygments_lexer": "ipython3",
   "version": "3.8.3"
  }
 },
 "nbformat": 4,
 "nbformat_minor": 4
}
